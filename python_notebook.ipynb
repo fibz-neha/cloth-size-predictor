{
  "nbformat": 4,
  "nbformat_minor": 0,
  "metadata": {
    "colab": {
      "name": "cloth.ipynb",
      "provenance": [],
      "collapsed_sections": []
    },
    "kernelspec": {
      "name": "python3",
      "display_name": "Python 3"
    },
    "language_info": {
      "name": "python"
    }
  },
  "cells": [
    {
      "cell_type": "code",
      "metadata": {
        "id": "ThA_9gEQvpL3"
      },
      "source": [
        "import pandas as pd\n",
        "import numpy as np\n",
        "import matplotlib.pyplot as plt\n",
        "import seaborn as sns\n",
        "\n",
        "%matplotlib inline\n",
        "\n",
        "# Models from Scikit-learn\n",
        "from sklearn.linear_model import LogisticRegression\n",
        "from sklearn.neighbors import KNeighborsClassifier\n",
        "from sklearn.ensemble import RandomForestClassifier\n",
        "from sklearn.tree import DecisionTreeClassifier\n",
        "\n",
        "# Model Evaluations\n",
        "from sklearn.model_selection import train_test_split, cross_val_score\n",
        "from sklearn.model_selection import RandomizedSearchCV, GridSearchCV\n",
        "from sklearn.metrics import confusion_matrix, classification_report"
      ],
      "execution_count": null,
      "outputs": []
    },
    {
      "cell_type": "code",
      "metadata": {
        "id": "o6SOncPewHdP"
      },
      "source": [
        "dress=pd.read_csv('final_test.csv')"
      ],
      "execution_count": null,
      "outputs": []
    },
    {
      "cell_type": "code",
      "metadata": {
        "colab": {
          "base_uri": "https://localhost:8080/",
          "height": 206
        },
        "id": "UGaEe6aiwXCX",
        "outputId": "6ae02876-1855-4691-a835-d9a234fa6cfe"
      },
      "source": [
        "dress.head()"
      ],
      "execution_count": null,
      "outputs": [
        {
          "output_type": "execute_result",
          "data": {
            "text/html": [
              "<div>\n",
              "<style scoped>\n",
              "    .dataframe tbody tr th:only-of-type {\n",
              "        vertical-align: middle;\n",
              "    }\n",
              "\n",
              "    .dataframe tbody tr th {\n",
              "        vertical-align: top;\n",
              "    }\n",
              "\n",
              "    .dataframe thead th {\n",
              "        text-align: right;\n",
              "    }\n",
              "</style>\n",
              "<table border=\"1\" class=\"dataframe\">\n",
              "  <thead>\n",
              "    <tr style=\"text-align: right;\">\n",
              "      <th></th>\n",
              "      <th>weight</th>\n",
              "      <th>age</th>\n",
              "      <th>height</th>\n",
              "      <th>size</th>\n",
              "    </tr>\n",
              "  </thead>\n",
              "  <tbody>\n",
              "    <tr>\n",
              "      <th>0</th>\n",
              "      <td>62</td>\n",
              "      <td>28.0</td>\n",
              "      <td>172.72</td>\n",
              "      <td>XL</td>\n",
              "    </tr>\n",
              "    <tr>\n",
              "      <th>1</th>\n",
              "      <td>59</td>\n",
              "      <td>36.0</td>\n",
              "      <td>167.64</td>\n",
              "      <td>L</td>\n",
              "    </tr>\n",
              "    <tr>\n",
              "      <th>2</th>\n",
              "      <td>61</td>\n",
              "      <td>34.0</td>\n",
              "      <td>165.10</td>\n",
              "      <td>M</td>\n",
              "    </tr>\n",
              "    <tr>\n",
              "      <th>3</th>\n",
              "      <td>65</td>\n",
              "      <td>27.0</td>\n",
              "      <td>175.26</td>\n",
              "      <td>L</td>\n",
              "    </tr>\n",
              "    <tr>\n",
              "      <th>4</th>\n",
              "      <td>62</td>\n",
              "      <td>45.0</td>\n",
              "      <td>172.72</td>\n",
              "      <td>M</td>\n",
              "    </tr>\n",
              "  </tbody>\n",
              "</table>\n",
              "</div>"
            ],
            "text/plain": [
              "   weight   age  height size\n",
              "0      62  28.0  172.72   XL\n",
              "1      59  36.0  167.64    L\n",
              "2      61  34.0  165.10    M\n",
              "3      65  27.0  175.26    L\n",
              "4      62  45.0  172.72    M"
            ]
          },
          "metadata": {},
          "execution_count": 3
        }
      ]
    },
    {
      "cell_type": "code",
      "metadata": {
        "colab": {
          "base_uri": "https://localhost:8080/"
        },
        "id": "26qCW8_bwbgj",
        "outputId": "2d420878-5ad3-435b-9009-eb45a352b14a"
      },
      "source": [
        "dress.info()"
      ],
      "execution_count": null,
      "outputs": [
        {
          "output_type": "stream",
          "name": "stdout",
          "text": [
            "<class 'pandas.core.frame.DataFrame'>\n",
            "RangeIndex: 119734 entries, 0 to 119733\n",
            "Data columns (total 4 columns):\n",
            " #   Column  Non-Null Count   Dtype  \n",
            "---  ------  --------------   -----  \n",
            " 0   weight  119734 non-null  int64  \n",
            " 1   age     119477 non-null  float64\n",
            " 2   height  119404 non-null  float64\n",
            " 3   size    119734 non-null  object \n",
            "dtypes: float64(2), int64(1), object(1)\n",
            "memory usage: 3.7+ MB\n"
          ]
        }
      ]
    },
    {
      "cell_type": "code",
      "metadata": {
        "colab": {
          "base_uri": "https://localhost:8080/"
        },
        "id": "kR63bC0ZxLNn",
        "outputId": "e00a69c1-de00-4b11-86d7-76b1620fdb2e"
      },
      "source": [
        "dress['height'].unique()"
      ],
      "execution_count": null,
      "outputs": [
        {
          "output_type": "execute_result",
          "data": {
            "text/plain": [
              "array([172.72, 167.64, 165.1 , 175.26, 160.02, 170.18, 154.94, 177.8 ,\n",
              "       157.48, 162.56, 147.32, 185.42, 180.34, 152.4 , 142.24, 182.88,\n",
              "       187.96,    nan, 149.86, 190.5 , 144.78, 137.16, 193.04, 139.7 ])"
            ]
          },
          "metadata": {},
          "execution_count": 5
        }
      ]
    },
    {
      "cell_type": "code",
      "metadata": {
        "colab": {
          "base_uri": "https://localhost:8080/"
        },
        "id": "yhNFQWVzxVxh",
        "outputId": "8387a56f-9cd7-4215-f430-2d5b93c7fd0c"
      },
      "source": [
        "dress['weight'].unique()"
      ],
      "execution_count": null,
      "outputs": [
        {
          "output_type": "execute_result",
          "data": {
            "text/plain": [
              "array([ 62,  59,  61,  65,  50,  53,  51,  54,  63,  77,  64,  52,  55,\n",
              "        74,  58,  47,  86,  68,  78,  49,  56,  81,  72,  60,  70,  79,\n",
              "       113,  88, 104,  57,  95,  99,  80,  71,  83,  90,  66,  46,  73,\n",
              "        48, 112,  69,  84,  45,  97,  75,  43,  67,  92,  76,  44, 102,\n",
              "        40,  96, 108,  89,  82, 115, 122,  87,  91,  93,  85, 111,  98,\n",
              "        94, 101, 125, 126, 131, 106, 107,  42,  22, 117,  31, 136, 120,\n",
              "       123,  41, 118, 116, 100, 105, 124, 103,  35, 129, 119, 121, 109,\n",
              "        26,  38,  36, 114,  39])"
            ]
          },
          "metadata": {},
          "execution_count": 6
        }
      ]
    },
    {
      "cell_type": "code",
      "metadata": {
        "colab": {
          "base_uri": "https://localhost:8080/"
        },
        "id": "wKonxvqzxODJ",
        "outputId": "bfd2a15c-df54-4b95-fa02-319c78bc28b9"
      },
      "source": [
        "dress['age'].unique()"
      ],
      "execution_count": null,
      "outputs": [
        {
          "output_type": "execute_result",
          "data": {
            "text/plain": [
              "array([ 28.,  36.,  34.,  27.,  45.,  65.,  33.,  26.,  32.,  30.,  35.,\n",
              "        21.,  20.,  37.,  50.,  43.,  29.,  47.,  31.,  48.,  40.,  52.,\n",
              "        24.,  25.,  49.,  22.,  42.,  53.,  69.,  23.,  17.,  44.,  41.,\n",
              "        59.,  39.,  38.,  51.,  46.,  54.,  nan,  62.,  58.,  19.,  55.,\n",
              "        60.,  61.,  57.,  56.,  70.,  16.,   0.,  64.,  63.,  77.,  68.,\n",
              "        66.,  18.,  67.,  75.,   3.,  85.,  87., 116.,  72.,   2.,  91.,\n",
              "       117.,  71.,  92.,   9.,  99.,  15.,   4.,  76.,  14., 100.,   1.,\n",
              "         5.,  73., 113.,  81.,  88., 112.])"
            ]
          },
          "metadata": {},
          "execution_count": 7
        }
      ]
    },
    {
      "cell_type": "code",
      "metadata": {
        "colab": {
          "base_uri": "https://localhost:8080/"
        },
        "id": "56q-UN78xUbf",
        "outputId": "54324f58-3241-4b4c-a22b-9bf023e35c11"
      },
      "source": [
        "dress['size'].unique()"
      ],
      "execution_count": null,
      "outputs": [
        {
          "output_type": "execute_result",
          "data": {
            "text/plain": [
              "array(['XL', 'L', 'M', 'S', 'XXS', 'XXXL', 'XXL'], dtype=object)"
            ]
          },
          "metadata": {},
          "execution_count": 8
        }
      ]
    },
    {
      "cell_type": "markdown",
      "metadata": {
        "id": "HUFYlQR_xwcl"
      },
      "source": [
        "height, age have null values. "
      ]
    },
    {
      "cell_type": "code",
      "metadata": {
        "id": "T81yAlc-x8-X"
      },
      "source": [
        "dress=dress[~dress['height'].isna()]\n",
        "dress=dress[~dress['age'].isna()]"
      ],
      "execution_count": null,
      "outputs": []
    },
    {
      "cell_type": "code",
      "metadata": {
        "id": "_hJk5sacyVjY"
      },
      "source": [
        "dress=dress.reset_index(drop=True)"
      ],
      "execution_count": null,
      "outputs": []
    },
    {
      "cell_type": "code",
      "metadata": {
        "colab": {
          "base_uri": "https://localhost:8080/",
          "height": 423
        },
        "id": "nvzjXZX1yXrs",
        "outputId": "db04b65a-b856-4dde-c048-9a12780cf393"
      },
      "source": [
        "dress"
      ],
      "execution_count": null,
      "outputs": [
        {
          "output_type": "execute_result",
          "data": {
            "text/html": [
              "<div>\n",
              "<style scoped>\n",
              "    .dataframe tbody tr th:only-of-type {\n",
              "        vertical-align: middle;\n",
              "    }\n",
              "\n",
              "    .dataframe tbody tr th {\n",
              "        vertical-align: top;\n",
              "    }\n",
              "\n",
              "    .dataframe thead th {\n",
              "        text-align: right;\n",
              "    }\n",
              "</style>\n",
              "<table border=\"1\" class=\"dataframe\">\n",
              "  <thead>\n",
              "    <tr style=\"text-align: right;\">\n",
              "      <th></th>\n",
              "      <th>weight</th>\n",
              "      <th>age</th>\n",
              "      <th>height</th>\n",
              "      <th>size</th>\n",
              "    </tr>\n",
              "  </thead>\n",
              "  <tbody>\n",
              "    <tr>\n",
              "      <th>0</th>\n",
              "      <td>62</td>\n",
              "      <td>28.0</td>\n",
              "      <td>172.72</td>\n",
              "      <td>XL</td>\n",
              "    </tr>\n",
              "    <tr>\n",
              "      <th>1</th>\n",
              "      <td>59</td>\n",
              "      <td>36.0</td>\n",
              "      <td>167.64</td>\n",
              "      <td>L</td>\n",
              "    </tr>\n",
              "    <tr>\n",
              "      <th>2</th>\n",
              "      <td>61</td>\n",
              "      <td>34.0</td>\n",
              "      <td>165.10</td>\n",
              "      <td>M</td>\n",
              "    </tr>\n",
              "    <tr>\n",
              "      <th>3</th>\n",
              "      <td>65</td>\n",
              "      <td>27.0</td>\n",
              "      <td>175.26</td>\n",
              "      <td>L</td>\n",
              "    </tr>\n",
              "    <tr>\n",
              "      <th>4</th>\n",
              "      <td>62</td>\n",
              "      <td>45.0</td>\n",
              "      <td>172.72</td>\n",
              "      <td>M</td>\n",
              "    </tr>\n",
              "    <tr>\n",
              "      <th>...</th>\n",
              "      <td>...</td>\n",
              "      <td>...</td>\n",
              "      <td>...</td>\n",
              "      <td>...</td>\n",
              "    </tr>\n",
              "    <tr>\n",
              "      <th>119148</th>\n",
              "      <td>63</td>\n",
              "      <td>42.0</td>\n",
              "      <td>175.26</td>\n",
              "      <td>M</td>\n",
              "    </tr>\n",
              "    <tr>\n",
              "      <th>119149</th>\n",
              "      <td>45</td>\n",
              "      <td>29.0</td>\n",
              "      <td>154.94</td>\n",
              "      <td>S</td>\n",
              "    </tr>\n",
              "    <tr>\n",
              "      <th>119150</th>\n",
              "      <td>61</td>\n",
              "      <td>31.0</td>\n",
              "      <td>172.72</td>\n",
              "      <td>M</td>\n",
              "    </tr>\n",
              "    <tr>\n",
              "      <th>119151</th>\n",
              "      <td>74</td>\n",
              "      <td>31.0</td>\n",
              "      <td>167.64</td>\n",
              "      <td>XL</td>\n",
              "    </tr>\n",
              "    <tr>\n",
              "      <th>119152</th>\n",
              "      <td>70</td>\n",
              "      <td>30.0</td>\n",
              "      <td>167.64</td>\n",
              "      <td>XL</td>\n",
              "    </tr>\n",
              "  </tbody>\n",
              "</table>\n",
              "<p>119153 rows × 4 columns</p>\n",
              "</div>"
            ],
            "text/plain": [
              "        weight   age  height size\n",
              "0           62  28.0  172.72   XL\n",
              "1           59  36.0  167.64    L\n",
              "2           61  34.0  165.10    M\n",
              "3           65  27.0  175.26    L\n",
              "4           62  45.0  172.72    M\n",
              "...        ...   ...     ...  ...\n",
              "119148      63  42.0  175.26    M\n",
              "119149      45  29.0  154.94    S\n",
              "119150      61  31.0  172.72    M\n",
              "119151      74  31.0  167.64   XL\n",
              "119152      70  30.0  167.64   XL\n",
              "\n",
              "[119153 rows x 4 columns]"
            ]
          },
          "metadata": {},
          "execution_count": 11
        }
      ]
    },
    {
      "cell_type": "code",
      "metadata": {
        "colab": {
          "base_uri": "https://localhost:8080/",
          "height": 300
        },
        "id": "dHzOZCJBy_SW",
        "outputId": "43e158f2-d75b-4708-981f-663232f2d802"
      },
      "source": [
        "dress.describe()"
      ],
      "execution_count": null,
      "outputs": [
        {
          "output_type": "execute_result",
          "data": {
            "text/html": [
              "<div>\n",
              "<style scoped>\n",
              "    .dataframe tbody tr th:only-of-type {\n",
              "        vertical-align: middle;\n",
              "    }\n",
              "\n",
              "    .dataframe tbody tr th {\n",
              "        vertical-align: top;\n",
              "    }\n",
              "\n",
              "    .dataframe thead th {\n",
              "        text-align: right;\n",
              "    }\n",
              "</style>\n",
              "<table border=\"1\" class=\"dataframe\">\n",
              "  <thead>\n",
              "    <tr style=\"text-align: right;\">\n",
              "      <th></th>\n",
              "      <th>weight</th>\n",
              "      <th>age</th>\n",
              "      <th>height</th>\n",
              "    </tr>\n",
              "  </thead>\n",
              "  <tbody>\n",
              "    <tr>\n",
              "      <th>count</th>\n",
              "      <td>119153.000000</td>\n",
              "      <td>119153.000000</td>\n",
              "      <td>119153.000000</td>\n",
              "    </tr>\n",
              "    <tr>\n",
              "      <th>mean</th>\n",
              "      <td>61.756095</td>\n",
              "      <td>34.032714</td>\n",
              "      <td>165.807068</td>\n",
              "    </tr>\n",
              "    <tr>\n",
              "      <th>std</th>\n",
              "      <td>9.942877</td>\n",
              "      <td>8.148302</td>\n",
              "      <td>6.737797</td>\n",
              "    </tr>\n",
              "    <tr>\n",
              "      <th>min</th>\n",
              "      <td>22.000000</td>\n",
              "      <td>0.000000</td>\n",
              "      <td>137.160000</td>\n",
              "    </tr>\n",
              "    <tr>\n",
              "      <th>25%</th>\n",
              "      <td>55.000000</td>\n",
              "      <td>29.000000</td>\n",
              "      <td>160.020000</td>\n",
              "    </tr>\n",
              "    <tr>\n",
              "      <th>50%</th>\n",
              "      <td>61.000000</td>\n",
              "      <td>32.000000</td>\n",
              "      <td>165.100000</td>\n",
              "    </tr>\n",
              "    <tr>\n",
              "      <th>75%</th>\n",
              "      <td>67.000000</td>\n",
              "      <td>37.000000</td>\n",
              "      <td>170.180000</td>\n",
              "    </tr>\n",
              "    <tr>\n",
              "      <th>max</th>\n",
              "      <td>136.000000</td>\n",
              "      <td>117.000000</td>\n",
              "      <td>193.040000</td>\n",
              "    </tr>\n",
              "  </tbody>\n",
              "</table>\n",
              "</div>"
            ],
            "text/plain": [
              "              weight            age         height\n",
              "count  119153.000000  119153.000000  119153.000000\n",
              "mean       61.756095      34.032714     165.807068\n",
              "std         9.942877       8.148302       6.737797\n",
              "min        22.000000       0.000000     137.160000\n",
              "25%        55.000000      29.000000     160.020000\n",
              "50%        61.000000      32.000000     165.100000\n",
              "75%        67.000000      37.000000     170.180000\n",
              "max       136.000000     117.000000     193.040000"
            ]
          },
          "metadata": {},
          "execution_count": 12
        }
      ]
    },
    {
      "cell_type": "code",
      "metadata": {
        "colab": {
          "base_uri": "https://localhost:8080/"
        },
        "id": "TLa8OPBkyb4q",
        "outputId": "773c9b76-7661-4caa-da1e-88b8ff32ab42"
      },
      "source": [
        "dress['size'].value_counts()"
      ],
      "execution_count": null,
      "outputs": [
        {
          "output_type": "execute_result",
          "data": {
            "text/plain": [
              "M       29575\n",
              "S       21829\n",
              "XXXL    21259\n",
              "XL      19033\n",
              "L       17481\n",
              "XXS      9907\n",
              "XXL        69\n",
              "Name: size, dtype: int64"
            ]
          },
          "metadata": {},
          "execution_count": 13
        }
      ]
    },
    {
      "cell_type": "code",
      "metadata": {
        "colab": {
          "base_uri": "https://localhost:8080/"
        },
        "id": "1rWCCHPIKp_b",
        "outputId": "5c07a9af-8b7a-402a-f5f1-271f4712bdd0"
      },
      "source": [
        "dress.shape"
      ],
      "execution_count": null,
      "outputs": [
        {
          "output_type": "execute_result",
          "data": {
            "text/plain": [
              "(119153, 4)"
            ]
          },
          "metadata": {},
          "execution_count": 14
        }
      ]
    },
    {
      "cell_type": "code",
      "metadata": {
        "colab": {
          "base_uri": "https://localhost:8080/",
          "height": 297
        },
        "id": "doTcnPgAyqcj",
        "outputId": "a122db9a-c60b-429f-834b-63c296529a46"
      },
      "source": [
        "sns.countplot(x=dress['size'])"
      ],
      "execution_count": null,
      "outputs": [
        {
          "output_type": "execute_result",
          "data": {
            "text/plain": [
              "<matplotlib.axes._subplots.AxesSubplot at 0x7f4755a2d090>"
            ]
          },
          "metadata": {},
          "execution_count": 15
        },
        {
          "output_type": "display_data",
          "data": {
            "image/png": "[encoded data removed]",
            "text/plain": [
              "<Figure size 432x288 with 1 Axes>"
            ]
          },
          "metadata": {
            "needs_background": "light"
          }
        }
      ]
    },
    {
      "cell_type": "code",
      "metadata": {
        "colab": {
          "base_uri": "https://localhost:8080/",
          "height": 387
        },
        "id": "cWFx28BYyziM",
        "outputId": "ebce5636-255a-4390-c0ed-1657fa52ef9c"
      },
      "source": [
        "sns.displot(dress['age'])"
      ],
      "execution_count": null,
      "outputs": [
        {
          "output_type": "execute_result",
          "data": {
            "text/plain": [
              "<seaborn.axisgrid.FacetGrid at 0x7f4755993190>"
            ]
          },
          "metadata": {},
          "execution_count": 16
        },
        {
          "output_type": "display_data",
          "data": {
            "image/png": "[encoded data removed]",
            "text/plain": [
              "<Figure size 360x360 with 1 Axes>"
            ]
          },
          "metadata": {
            "needs_background": "light"
          }
        }
      ]
    },
    {
      "cell_type": "markdown",
      "metadata": {
        "id": "TxgJfMIHthUk"
      },
      "source": [
        "Removing outliers using standard score (z score)"
      ]
    },
    {
      "cell_type": "code",
      "metadata": {
        "id": "iwZJB9vzzOdL",
        "colab": {
          "base_uri": "https://localhost:8080/",
          "height": 345
        },
        "outputId": "3dc1d0be-de20-4668-a7ee-f1659ffebb46"
      },
      "source": [
        "ds = []\n",
        "sizes = []\n",
        "for s in dress['size'].unique():\n",
        "    sizes.append(s)\n",
        "    x0 = dress[['age','height','weight']][dress['size'] == s]\n",
        "    mean0=x0.mean()\n",
        "    stn=x0.std()\n",
        "    zscore = ((x0 - mean0)/stn)\n",
        "    ds.append(zscore)\n",
        "    \n",
        "for i in range(len(ds)):\n",
        "    ds[i]['age'] = ds[i]['age'][(ds[i]['age']>-3) & (ds[i]['age']<3)]\n",
        "    ds[i]['height'] = ds[i]['height'][(ds[i]['height']>-3) & (ds[i]['height']<3)]\n",
        "    ds[i]['weight'] = ds[i]['weight'][(ds[i]['weight']>-3) & (ds[i]['weight']<3)]\n",
        "\n",
        "for i in range(len(sizes)):\n",
        "    ds[i]['size'] = sizes[i]\n",
        "dress = pd.concat(ds)\n",
        "print(mean0)\n",
        "print(stn)\n",
        "dress.head()"
      ],
      "execution_count": null,
      "outputs": [
        {
          "output_type": "stream",
          "name": "stdout",
          "text": [
            "age        36.304348\n",
            "height    160.388116\n",
            "weight     66.376812\n",
            "dtype: float64\n",
            "age       9.954757\n",
            "height    7.068046\n",
            "weight    5.102195\n",
            "dtype: float64\n"
          ]
        },
        {
          "output_type": "execute_result",
          "data": {
            "text/html": [
              "<div>\n",
              "<style scoped>\n",
              "    .dataframe tbody tr th:only-of-type {\n",
              "        vertical-align: middle;\n",
              "    }\n",
              "\n",
              "    .dataframe tbody tr th {\n",
              "        vertical-align: top;\n",
              "    }\n",
              "\n",
              "    .dataframe thead th {\n",
              "        text-align: right;\n",
              "    }\n",
              "</style>\n",
              "<table border=\"1\" class=\"dataframe\">\n",
              "  <thead>\n",
              "    <tr style=\"text-align: right;\">\n",
              "      <th></th>\n",
              "      <th>age</th>\n",
              "      <th>height</th>\n",
              "      <th>weight</th>\n",
              "      <th>size</th>\n",
              "    </tr>\n",
              "  </thead>\n",
              "  <tbody>\n",
              "    <tr>\n",
              "      <th>0</th>\n",
              "      <td>-0.833765</td>\n",
              "      <td>0.767109</td>\n",
              "      <td>-0.660874</td>\n",
              "      <td>XL</td>\n",
              "    </tr>\n",
              "    <tr>\n",
              "      <th>24</th>\n",
              "      <td>-0.713753</td>\n",
              "      <td>1.539084</td>\n",
              "      <td>1.556823</td>\n",
              "      <td>XL</td>\n",
              "    </tr>\n",
              "    <tr>\n",
              "      <th>25</th>\n",
              "      <td>-0.353718</td>\n",
              "      <td>-1.162831</td>\n",
              "      <td>-0.291257</td>\n",
              "      <td>XL</td>\n",
              "    </tr>\n",
              "    <tr>\n",
              "      <th>28</th>\n",
              "      <td>-0.473729</td>\n",
              "      <td>-1.934807</td>\n",
              "      <td>-1.400106</td>\n",
              "      <td>XL</td>\n",
              "    </tr>\n",
              "    <tr>\n",
              "      <th>34</th>\n",
              "      <td>0.126330</td>\n",
              "      <td>-0.776843</td>\n",
              "      <td>0.447975</td>\n",
              "      <td>XL</td>\n",
              "    </tr>\n",
              "  </tbody>\n",
              "</table>\n",
              "</div>"
            ],
            "text/plain": [
              "         age    height    weight size\n",
              "0  -0.833765  0.767109 -0.660874   XL\n",
              "24 -0.713753  1.539084  1.556823   XL\n",
              "25 -0.353718 -1.162831 -0.291257   XL\n",
              "28 -0.473729 -1.934807 -1.400106   XL\n",
              "34  0.126330 -0.776843  0.447975   XL"
            ]
          },
          "metadata": {},
          "execution_count": 17
        }
      ]
    },
    {
      "cell_type": "code",
      "metadata": {
        "colab": {
          "base_uri": "https://localhost:8080/"
        },
        "id": "jsTQ5Yba3ykP",
        "outputId": "7feabd29-d610-4355-ea8d-74c6a147c9cf"
      },
      "source": [
        "dress.isna().sum()"
      ],
      "execution_count": null,
      "outputs": [
        {
          "output_type": "execute_result",
          "data": {
            "text/plain": [
              "age       1470\n",
              "height     215\n",
              "weight    1063\n",
              "size         0\n",
              "dtype: int64"
            ]
          },
          "metadata": {},
          "execution_count": 18
        }
      ]
    },
    {
      "cell_type": "code",
      "metadata": {
        "id": "wfpDIrJX33DQ"
      },
      "source": [
        "dress[\"age\"] = dress[\"age\"].fillna(dress['age'].median())\n",
        "dress[\"height\"] = dress[\"height\"].fillna(dress['height'].median())\n",
        "dress[\"weight\"] = dress[\"weight\"].fillna(dress['weight'].median())"
      ],
      "execution_count": null,
      "outputs": []
    },
    {
      "cell_type": "code",
      "metadata": {
        "id": "w49Hfxlo4P8o"
      },
      "source": [
        "dress['size'] = dress['size'].map({\"XXS\": 1,\n",
        "                                     \"S\": 2,\n",
        "                                     \"M\" : 3,\n",
        "                                     \"L\" : 4,\n",
        "                                     \"XL\" : 5,\n",
        "                                     \"XXL\" : 6,\n",
        "                                     \"XXXL\" : 7})"
      ],
      "execution_count": null,
      "outputs": []
    },
    {
      "cell_type": "code",
      "metadata": {
        "colab": {
          "base_uri": "https://localhost:8080/"
        },
        "id": "ot8l2gOd4JOn",
        "outputId": "6b26290b-e2e6-41ce-f1b9-2d690e86b268"
      },
      "source": [
        "dress.isna().sum()"
      ],
      "execution_count": null,
      "outputs": [
        {
          "output_type": "execute_result",
          "data": {
            "text/plain": [
              "age       0\n",
              "height    0\n",
              "weight    0\n",
              "size      0\n",
              "dtype: int64"
            ]
          },
          "metadata": {},
          "execution_count": 21
        }
      ]
    },
    {
      "cell_type": "code",
      "metadata": {
        "colab": {
          "base_uri": "https://localhost:8080/",
          "height": 423
        },
        "id": "eUmrXM641c59",
        "outputId": "f25e6031-8cb0-4cf5-9e2c-b9dd1236c26f"
      },
      "source": [
        "dress"
      ],
      "execution_count": null,
      "outputs": [
        {
          "output_type": "execute_result",
          "data": {
            "text/html": [
              "<div>\n",
              "<style scoped>\n",
              "    .dataframe tbody tr th:only-of-type {\n",
              "        vertical-align: middle;\n",
              "    }\n",
              "\n",
              "    .dataframe tbody tr th {\n",
              "        vertical-align: top;\n",
              "    }\n",
              "\n",
              "    .dataframe thead th {\n",
              "        text-align: right;\n",
              "    }\n",
              "</style>\n",
              "<table border=\"1\" class=\"dataframe\">\n",
              "  <thead>\n",
              "    <tr style=\"text-align: right;\">\n",
              "      <th></th>\n",
              "      <th>age</th>\n",
              "      <th>height</th>\n",
              "      <th>weight</th>\n",
              "      <th>size</th>\n",
              "    </tr>\n",
              "  </thead>\n",
              "  <tbody>\n",
              "    <tr>\n",
              "      <th>0</th>\n",
              "      <td>-0.833765</td>\n",
              "      <td>0.767109</td>\n",
              "      <td>-0.660874</td>\n",
              "      <td>5</td>\n",
              "    </tr>\n",
              "    <tr>\n",
              "      <th>24</th>\n",
              "      <td>-0.713753</td>\n",
              "      <td>1.539084</td>\n",
              "      <td>1.556823</td>\n",
              "      <td>5</td>\n",
              "    </tr>\n",
              "    <tr>\n",
              "      <th>25</th>\n",
              "      <td>-0.353718</td>\n",
              "      <td>-1.162831</td>\n",
              "      <td>-0.291257</td>\n",
              "      <td>5</td>\n",
              "    </tr>\n",
              "    <tr>\n",
              "      <th>28</th>\n",
              "      <td>-0.473729</td>\n",
              "      <td>-1.934807</td>\n",
              "      <td>-1.400106</td>\n",
              "      <td>5</td>\n",
              "    </tr>\n",
              "    <tr>\n",
              "      <th>34</th>\n",
              "      <td>0.126330</td>\n",
              "      <td>-0.776843</td>\n",
              "      <td>0.447975</td>\n",
              "      <td>5</td>\n",
              "    </tr>\n",
              "    <tr>\n",
              "      <th>...</th>\n",
              "      <td>...</td>\n",
              "      <td>...</td>\n",
              "      <td>...</td>\n",
              "      <td>...</td>\n",
              "    </tr>\n",
              "    <tr>\n",
              "      <th>112159</th>\n",
              "      <td>-1.236027</td>\n",
              "      <td>-1.489537</td>\n",
              "      <td>0.318135</td>\n",
              "      <td>6</td>\n",
              "    </tr>\n",
              "    <tr>\n",
              "      <th>114177</th>\n",
              "      <td>-0.633300</td>\n",
              "      <td>-0.052082</td>\n",
              "      <td>1.494100</td>\n",
              "      <td>6</td>\n",
              "    </tr>\n",
              "    <tr>\n",
              "      <th>114248</th>\n",
              "      <td>-0.432391</td>\n",
              "      <td>-0.052082</td>\n",
              "      <td>0.514129</td>\n",
              "      <td>6</td>\n",
              "    </tr>\n",
              "    <tr>\n",
              "      <th>114438</th>\n",
              "      <td>0.973972</td>\n",
              "      <td>-0.052082</td>\n",
              "      <td>-0.465841</td>\n",
              "      <td>6</td>\n",
              "    </tr>\n",
              "    <tr>\n",
              "      <th>117066</th>\n",
              "      <td>-0.733755</td>\n",
              "      <td>1.026010</td>\n",
              "      <td>2.082082</td>\n",
              "      <td>6</td>\n",
              "    </tr>\n",
              "  </tbody>\n",
              "</table>\n",
              "<p>119153 rows × 4 columns</p>\n",
              "</div>"
            ],
            "text/plain": [
              "             age    height    weight  size\n",
              "0      -0.833765  0.767109 -0.660874     5\n",
              "24     -0.713753  1.539084  1.556823     5\n",
              "25     -0.353718 -1.162831 -0.291257     5\n",
              "28     -0.473729 -1.934807 -1.400106     5\n",
              "34      0.126330 -0.776843  0.447975     5\n",
              "...          ...       ...       ...   ...\n",
              "112159 -1.236027 -1.489537  0.318135     6\n",
              "114177 -0.633300 -0.052082  1.494100     6\n",
              "114248 -0.432391 -0.052082  0.514129     6\n",
              "114438  0.973972 -0.052082 -0.465841     6\n",
              "117066 -0.733755  1.026010  2.082082     6\n",
              "\n",
              "[119153 rows x 4 columns]"
            ]
          },
          "metadata": {},
          "execution_count": 22
        }
      ]
    },
    {
      "cell_type": "code",
      "metadata": {
        "id": "Lc3lwXxr1rsp"
      },
      "source": [
        "dress=dress.reset_index(drop=True)"
      ],
      "execution_count": null,
      "outputs": []
    },
    {
      "cell_type": "code",
      "metadata": {
        "colab": {
          "base_uri": "https://localhost:8080/",
          "height": 423
        },
        "id": "4CN4FO4f1tfw",
        "outputId": "01ed6289-d0c2-483c-d327-1191a5641df8"
      },
      "source": [
        "dress"
      ],
      "execution_count": null,
      "outputs": [
        {
          "output_type": "execute_result",
          "data": {
            "text/html": [
              "<div>\n",
              "<style scoped>\n",
              "    .dataframe tbody tr th:only-of-type {\n",
              "        vertical-align: middle;\n",
              "    }\n",
              "\n",
              "    .dataframe tbody tr th {\n",
              "        vertical-align: top;\n",
              "    }\n",
              "\n",
              "    .dataframe thead th {\n",
              "        text-align: right;\n",
              "    }\n",
              "</style>\n",
              "<table border=\"1\" class=\"dataframe\">\n",
              "  <thead>\n",
              "    <tr style=\"text-align: right;\">\n",
              "      <th></th>\n",
              "      <th>age</th>\n",
              "      <th>height</th>\n",
              "      <th>weight</th>\n",
              "      <th>size</th>\n",
              "    </tr>\n",
              "  </thead>\n",
              "  <tbody>\n",
              "    <tr>\n",
              "      <th>0</th>\n",
              "      <td>-0.833765</td>\n",
              "      <td>0.767109</td>\n",
              "      <td>-0.660874</td>\n",
              "      <td>5</td>\n",
              "    </tr>\n",
              "    <tr>\n",
              "      <th>1</th>\n",
              "      <td>-0.713753</td>\n",
              "      <td>1.539084</td>\n",
              "      <td>1.556823</td>\n",
              "      <td>5</td>\n",
              "    </tr>\n",
              "    <tr>\n",
              "      <th>2</th>\n",
              "      <td>-0.353718</td>\n",
              "      <td>-1.162831</td>\n",
              "      <td>-0.291257</td>\n",
              "      <td>5</td>\n",
              "    </tr>\n",
              "    <tr>\n",
              "      <th>3</th>\n",
              "      <td>-0.473729</td>\n",
              "      <td>-1.934807</td>\n",
              "      <td>-1.400106</td>\n",
              "      <td>5</td>\n",
              "    </tr>\n",
              "    <tr>\n",
              "      <th>4</th>\n",
              "      <td>0.126330</td>\n",
              "      <td>-0.776843</td>\n",
              "      <td>0.447975</td>\n",
              "      <td>5</td>\n",
              "    </tr>\n",
              "    <tr>\n",
              "      <th>...</th>\n",
              "      <td>...</td>\n",
              "      <td>...</td>\n",
              "      <td>...</td>\n",
              "      <td>...</td>\n",
              "    </tr>\n",
              "    <tr>\n",
              "      <th>119148</th>\n",
              "      <td>-1.236027</td>\n",
              "      <td>-1.489537</td>\n",
              "      <td>0.318135</td>\n",
              "      <td>6</td>\n",
              "    </tr>\n",
              "    <tr>\n",
              "      <th>119149</th>\n",
              "      <td>-0.633300</td>\n",
              "      <td>-0.052082</td>\n",
              "      <td>1.494100</td>\n",
              "      <td>6</td>\n",
              "    </tr>\n",
              "    <tr>\n",
              "      <th>119150</th>\n",
              "      <td>-0.432391</td>\n",
              "      <td>-0.052082</td>\n",
              "      <td>0.514129</td>\n",
              "      <td>6</td>\n",
              "    </tr>\n",
              "    <tr>\n",
              "      <th>119151</th>\n",
              "      <td>0.973972</td>\n",
              "      <td>-0.052082</td>\n",
              "      <td>-0.465841</td>\n",
              "      <td>6</td>\n",
              "    </tr>\n",
              "    <tr>\n",
              "      <th>119152</th>\n",
              "      <td>-0.733755</td>\n",
              "      <td>1.026010</td>\n",
              "      <td>2.082082</td>\n",
              "      <td>6</td>\n",
              "    </tr>\n",
              "  </tbody>\n",
              "</table>\n",
              "<p>119153 rows × 4 columns</p>\n",
              "</div>"
            ],
            "text/plain": [
              "             age    height    weight  size\n",
              "0      -0.833765  0.767109 -0.660874     5\n",
              "1      -0.713753  1.539084  1.556823     5\n",
              "2      -0.353718 -1.162831 -0.291257     5\n",
              "3      -0.473729 -1.934807 -1.400106     5\n",
              "4       0.126330 -0.776843  0.447975     5\n",
              "...          ...       ...       ...   ...\n",
              "119148 -1.236027 -1.489537  0.318135     6\n",
              "119149 -0.633300 -0.052082  1.494100     6\n",
              "119150 -0.432391 -0.052082  0.514129     6\n",
              "119151  0.973972 -0.052082 -0.465841     6\n",
              "119152 -0.733755  1.026010  2.082082     6\n",
              "\n",
              "[119153 rows x 4 columns]"
            ]
          },
          "metadata": {},
          "execution_count": 24
        }
      ]
    },
    {
      "cell_type": "code",
      "metadata": {
        "id": "mzJ492qH00Ng"
      },
      "source": [
        ""
      ],
      "execution_count": null,
      "outputs": []
    },
    {
      "cell_type": "code",
      "metadata": {
        "id": "4YuRtxE91zNa"
      },
      "source": [
        "dress['bmi'] = dress['height']/dress['weight']\n",
        "dress['weight-squared'] = dress['weight'] * dress['weight']"
      ],
      "execution_count": null,
      "outputs": []
    },
    {
      "cell_type": "code",
      "metadata": {
        "colab": {
          "base_uri": "https://localhost:8080/",
          "height": 423
        },
        "id": "6-gaswS-2Px0",
        "outputId": "b0a24451-d874-454e-8fff-99dca3ccee66"
      },
      "source": [
        "dress"
      ],
      "execution_count": null,
      "outputs": [
        {
          "output_type": "execute_result",
          "data": {
            "text/html": [
              "<div>\n",
              "<style scoped>\n",
              "    .dataframe tbody tr th:only-of-type {\n",
              "        vertical-align: middle;\n",
              "    }\n",
              "\n",
              "    .dataframe tbody tr th {\n",
              "        vertical-align: top;\n",
              "    }\n",
              "\n",
              "    .dataframe thead th {\n",
              "        text-align: right;\n",
              "    }\n",
              "</style>\n",
              "<table border=\"1\" class=\"dataframe\">\n",
              "  <thead>\n",
              "    <tr style=\"text-align: right;\">\n",
              "      <th></th>\n",
              "      <th>age</th>\n",
              "      <th>height</th>\n",
              "      <th>weight</th>\n",
              "      <th>size</th>\n",
              "      <th>bmi</th>\n",
              "      <th>weight-squared</th>\n",
              "    </tr>\n",
              "  </thead>\n",
              "  <tbody>\n",
              "    <tr>\n",
              "      <th>0</th>\n",
              "      <td>-0.833765</td>\n",
              "      <td>0.767109</td>\n",
              "      <td>-0.660874</td>\n",
              "      <td>5</td>\n",
              "      <td>-1.160749</td>\n",
              "      <td>0.436754</td>\n",
              "    </tr>\n",
              "    <tr>\n",
              "      <th>1</th>\n",
              "      <td>-0.713753</td>\n",
              "      <td>1.539084</td>\n",
              "      <td>1.556823</td>\n",
              "      <td>5</td>\n",
              "      <td>0.988606</td>\n",
              "      <td>2.423699</td>\n",
              "    </tr>\n",
              "    <tr>\n",
              "      <th>2</th>\n",
              "      <td>-0.353718</td>\n",
              "      <td>-1.162831</td>\n",
              "      <td>-0.291257</td>\n",
              "      <td>5</td>\n",
              "      <td>3.992450</td>\n",
              "      <td>0.084831</td>\n",
              "    </tr>\n",
              "    <tr>\n",
              "      <th>3</th>\n",
              "      <td>-0.473729</td>\n",
              "      <td>-1.934807</td>\n",
              "      <td>-1.400106</td>\n",
              "      <td>5</td>\n",
              "      <td>1.381900</td>\n",
              "      <td>1.960297</td>\n",
              "    </tr>\n",
              "    <tr>\n",
              "      <th>4</th>\n",
              "      <td>0.126330</td>\n",
              "      <td>-0.776843</td>\n",
              "      <td>0.447975</td>\n",
              "      <td>5</td>\n",
              "      <td>-1.734122</td>\n",
              "      <td>0.200681</td>\n",
              "    </tr>\n",
              "    <tr>\n",
              "      <th>...</th>\n",
              "      <td>...</td>\n",
              "      <td>...</td>\n",
              "      <td>...</td>\n",
              "      <td>...</td>\n",
              "      <td>...</td>\n",
              "      <td>...</td>\n",
              "    </tr>\n",
              "    <tr>\n",
              "      <th>119148</th>\n",
              "      <td>-1.236027</td>\n",
              "      <td>-1.489537</td>\n",
              "      <td>0.318135</td>\n",
              "      <td>6</td>\n",
              "      <td>-4.682086</td>\n",
              "      <td>0.101210</td>\n",
              "    </tr>\n",
              "    <tr>\n",
              "      <th>119149</th>\n",
              "      <td>-0.633300</td>\n",
              "      <td>-0.052082</td>\n",
              "      <td>1.494100</td>\n",
              "      <td>6</td>\n",
              "      <td>-0.034858</td>\n",
              "      <td>2.232334</td>\n",
              "    </tr>\n",
              "    <tr>\n",
              "      <th>119150</th>\n",
              "      <td>-0.432391</td>\n",
              "      <td>-0.052082</td>\n",
              "      <td>0.514129</td>\n",
              "      <td>6</td>\n",
              "      <td>-0.101301</td>\n",
              "      <td>0.264329</td>\n",
              "    </tr>\n",
              "    <tr>\n",
              "      <th>119151</th>\n",
              "      <td>0.973972</td>\n",
              "      <td>-0.052082</td>\n",
              "      <td>-0.465841</td>\n",
              "      <td>6</td>\n",
              "      <td>0.111801</td>\n",
              "      <td>0.217008</td>\n",
              "    </tr>\n",
              "    <tr>\n",
              "      <th>119152</th>\n",
              "      <td>-0.733755</td>\n",
              "      <td>1.026010</td>\n",
              "      <td>2.082082</td>\n",
              "      <td>6</td>\n",
              "      <td>0.492781</td>\n",
              "      <td>4.335065</td>\n",
              "    </tr>\n",
              "  </tbody>\n",
              "</table>\n",
              "<p>119153 rows × 6 columns</p>\n",
              "</div>"
            ],
            "text/plain": [
              "             age    height    weight  size       bmi  weight-squared\n",
              "0      -0.833765  0.767109 -0.660874     5 -1.160749        0.436754\n",
              "1      -0.713753  1.539084  1.556823     5  0.988606        2.423699\n",
              "2      -0.353718 -1.162831 -0.291257     5  3.992450        0.084831\n",
              "3      -0.473729 -1.934807 -1.400106     5  1.381900        1.960297\n",
              "4       0.126330 -0.776843  0.447975     5 -1.734122        0.200681\n",
              "...          ...       ...       ...   ...       ...             ...\n",
              "119148 -1.236027 -1.489537  0.318135     6 -4.682086        0.101210\n",
              "119149 -0.633300 -0.052082  1.494100     6 -0.034858        2.232334\n",
              "119150 -0.432391 -0.052082  0.514129     6 -0.101301        0.264329\n",
              "119151  0.973972 -0.052082 -0.465841     6  0.111801        0.217008\n",
              "119152 -0.733755  1.026010  2.082082     6  0.492781        4.335065\n",
              "\n",
              "[119153 rows x 6 columns]"
            ]
          },
          "metadata": {},
          "execution_count": 26
        }
      ]
    },
    {
      "cell_type": "code",
      "metadata": {
        "colab": {
          "base_uri": "https://localhost:8080/",
          "height": 300
        },
        "id": "HUp6yLmSLLHB",
        "outputId": "1a18a366-cb37-43ee-93fc-57842378e4f3"
      },
      "source": [
        "dress.groupby('size').mean()"
      ],
      "execution_count": null,
      "outputs": [
        {
          "output_type": "execute_result",
          "data": {
            "text/html": [
              "<div>\n",
              "<style scoped>\n",
              "    .dataframe tbody tr th:only-of-type {\n",
              "        vertical-align: middle;\n",
              "    }\n",
              "\n",
              "    .dataframe tbody tr th {\n",
              "        vertical-align: top;\n",
              "    }\n",
              "\n",
              "    .dataframe thead th {\n",
              "        text-align: right;\n",
              "    }\n",
              "</style>\n",
              "<table border=\"1\" class=\"dataframe\">\n",
              "  <thead>\n",
              "    <tr style=\"text-align: right;\">\n",
              "      <th></th>\n",
              "      <th>age</th>\n",
              "      <th>height</th>\n",
              "      <th>weight</th>\n",
              "      <th>bmi</th>\n",
              "      <th>weight-squared</th>\n",
              "    </tr>\n",
              "    <tr>\n",
              "      <th>size</th>\n",
              "      <th></th>\n",
              "      <th></th>\n",
              "      <th></th>\n",
              "      <th></th>\n",
              "      <th></th>\n",
              "    </tr>\n",
              "  </thead>\n",
              "  <tbody>\n",
              "    <tr>\n",
              "      <th>1</th>\n",
              "      <td>-5.953829e-02</td>\n",
              "      <td>-0.006133</td>\n",
              "      <td>-2.043325e-02</td>\n",
              "      <td>0.399904</td>\n",
              "      <td>0.872091</td>\n",
              "    </tr>\n",
              "    <tr>\n",
              "      <th>2</th>\n",
              "      <td>-5.534792e-02</td>\n",
              "      <td>-0.001573</td>\n",
              "      <td>-2.054789e-02</td>\n",
              "      <td>0.644420</td>\n",
              "      <td>0.879640</td>\n",
              "    </tr>\n",
              "    <tr>\n",
              "      <th>3</th>\n",
              "      <td>-4.958300e-02</td>\n",
              "      <td>0.000195</td>\n",
              "      <td>-1.732177e-02</td>\n",
              "      <td>0.086330</td>\n",
              "      <td>0.876880</td>\n",
              "    </tr>\n",
              "    <tr>\n",
              "      <th>4</th>\n",
              "      <td>-4.393115e-02</td>\n",
              "      <td>0.001336</td>\n",
              "      <td>-2.204635e-02</td>\n",
              "      <td>0.433030</td>\n",
              "      <td>0.872622</td>\n",
              "    </tr>\n",
              "    <tr>\n",
              "      <th>5</th>\n",
              "      <td>-4.023857e-02</td>\n",
              "      <td>-0.000103</td>\n",
              "      <td>-9.643722e-03</td>\n",
              "      <td>0.269611</td>\n",
              "      <td>0.914638</td>\n",
              "    </tr>\n",
              "    <tr>\n",
              "      <th>6</th>\n",
              "      <td>3.266308e-16</td>\n",
              "      <td>-0.098276</td>\n",
              "      <td>-1.435245e-15</td>\n",
              "      <td>0.177420</td>\n",
              "      <td>0.985507</td>\n",
              "    </tr>\n",
              "    <tr>\n",
              "      <th>7</th>\n",
              "      <td>-2.966250e-02</td>\n",
              "      <td>-0.002205</td>\n",
              "      <td>-6.413352e-02</td>\n",
              "      <td>0.271270</td>\n",
              "      <td>0.748968</td>\n",
              "    </tr>\n",
              "  </tbody>\n",
              "</table>\n",
              "</div>"
            ],
            "text/plain": [
              "               age    height        weight       bmi  weight-squared\n",
              "size                                                                \n",
              "1    -5.953829e-02 -0.006133 -2.043325e-02  0.399904        0.872091\n",
              "2    -5.534792e-02 -0.001573 -2.054789e-02  0.644420        0.879640\n",
              "3    -4.958300e-02  0.000195 -1.732177e-02  0.086330        0.876880\n",
              "4    -4.393115e-02  0.001336 -2.204635e-02  0.433030        0.872622\n",
              "5    -4.023857e-02 -0.000103 -9.643722e-03  0.269611        0.914638\n",
              "6     3.266308e-16 -0.098276 -1.435245e-15  0.177420        0.985507\n",
              "7    -2.966250e-02 -0.002205 -6.413352e-02  0.271270        0.748968"
            ]
          },
          "metadata": {},
          "execution_count": 27
        }
      ]
    },
    {
      "cell_type": "code",
      "metadata": {
        "colab": {
          "base_uri": "https://localhost:8080/",
          "height": 337
        },
        "id": "_6WNhwhL2Z9n",
        "outputId": "a492e875-d2b9-4c53-a27b-6d55763ce9ce"
      },
      "source": [
        "corr = sns.heatmap(dress.corr(), annot=True)"
      ],
      "execution_count": null,
      "outputs": [
        {
          "output_type": "display_data",
          "data": {
            "image/png": "[encoded data removed]",
            "text/plain": [
              "<Figure size 432x288 with 2 Axes>"
            ]
          },
          "metadata": {
            "needs_background": "light"
          }
        }
      ]
    },
    {
      "cell_type": "code",
      "metadata": {
        "colab": {
          "base_uri": "https://localhost:8080/"
        },
        "id": "M4RxKStA6KeB",
        "outputId": "b168f577-d8a4-4d4a-e829-ea038f0aa40b"
      },
      "source": [
        "dress.isna().sum()"
      ],
      "execution_count": null,
      "outputs": [
        {
          "output_type": "execute_result",
          "data": {
            "text/plain": [
              "age               0\n",
              "height            0\n",
              "weight            0\n",
              "size              0\n",
              "bmi               0\n",
              "weight-squared    0\n",
              "dtype: int64"
            ]
          },
          "metadata": {},
          "execution_count": 29
        }
      ]
    },
    {
      "cell_type": "code",
      "metadata": {
        "id": "1-wPTR3o2oxW"
      },
      "source": [
        "X=dress.drop(columns='size', axis=1)\n",
        "y=dress['size']"
      ],
      "execution_count": null,
      "outputs": []
    },
    {
      "cell_type": "code",
      "metadata": {
        "colab": {
          "base_uri": "https://localhost:8080/"
        },
        "id": "NB75gFb825cg",
        "outputId": "6f2c2a31-bfd1-489d-c88e-35745028c757"
      },
      "source": [
        "y.head()"
      ],
      "execution_count": null,
      "outputs": [
        {
          "output_type": "execute_result",
          "data": {
            "text/plain": [
              "0    5\n",
              "1    5\n",
              "2    5\n",
              "3    5\n",
              "4    5\n",
              "Name: size, dtype: int64"
            ]
          },
          "metadata": {},
          "execution_count": 31
        }
      ]
    },
    {
      "cell_type": "code",
      "metadata": {
        "id": "mK_veU1E3A6G"
      },
      "source": [
        "X_train, X_test, y_train, y_test, = train_test_split(X,y, test_size=0.20)"
      ],
      "execution_count": null,
      "outputs": []
    },
    {
      "cell_type": "code",
      "metadata": {
        "colab": {
          "base_uri": "https://localhost:8080/"
        },
        "id": "XBZ-A5R73Jne",
        "outputId": "bf67e508-edc8-4916-b530-91e0a508295d"
      },
      "source": [
        "len(X_train), len(X_test)"
      ],
      "execution_count": null,
      "outputs": [
        {
          "output_type": "execute_result",
          "data": {
            "text/plain": [
              "(95322, 23831)"
            ]
          },
          "metadata": {},
          "execution_count": 33
        }
      ]
    },
    {
      "cell_type": "code",
      "metadata": {
        "id": "asxf6H1GLCcq"
      },
      "source": [
        "model= DecisionTreeClassifier()"
      ],
      "execution_count": null,
      "outputs": []
    },
    {
      "cell_type": "code",
      "metadata": {
        "id": "TWryXkmuawl7"
      },
      "source": [
        "def fit_and_score(model, X_train, X_test, y_train, y_test):\n",
        "  # Set random seed\n",
        "    np.random.seed(30)\n",
        "    \n",
        "    model.fit(X_train, y_train)\n",
        "    model_scores = model.score(X_test, y_test)\n",
        "    return model_scores"
      ],
      "execution_count": null,
      "outputs": []
    },
    {
      "cell_type": "code",
      "metadata": {
        "id": "z1yYnNJYa0Ca",
        "colab": {
          "base_uri": "https://localhost:8080/"
        },
        "outputId": "8b8bf14c-7a4b-4eb5-9dd9-0866fa464e06"
      },
      "source": [
        "accuracy = fit_and_score(model,X_train,X_test,y_train,y_test)\n",
        "accuracy"
      ],
      "execution_count": null,
      "outputs": [
        {
          "output_type": "execute_result",
          "data": {
            "text/plain": [
              "0.9993705677478913"
            ]
          },
          "metadata": {},
          "execution_count": 36
        }
      ]
    },
    {
      "cell_type": "code",
      "metadata": {
        "id": "GUUl2MgjZaIT"
      },
      "source": [
        ""
      ],
      "execution_count": null,
      "outputs": []
    },
    {
      "cell_type": "markdown",
      "metadata": {
        "id": "nEWufZhj6o77"
      },
      "source": [
        "prediction"
      ]
    },
    {
      "cell_type": "code",
      "metadata": {
        "colab": {
          "base_uri": "https://localhost:8080/"
        },
        "id": "jhJWOFi96rTx",
        "outputId": "70b38be3-a7e9-4f92-e6d2-adc6b2a7068c"
      },
      "source": [
        "model = DecisionTreeClassifier()\n",
        "model.fit(X_train, y_train)\n",
        "y_pred = model.predict(X_test)\n",
        "print(X_test,y_pred)"
      ],
      "execution_count": null,
      "outputs": [
        {
          "output_type": "stream",
          "name": "stdout",
          "text": [
            "             age    height    weight        bmi  weight-squared\n",
            "118200 -0.047328  0.334722 -1.226354  -0.272941        1.503944\n",
            "10249  -0.713753  0.767109 -0.106449  -7.206324        0.011331\n",
            "93384  -0.228601  2.016288 -0.402006  -5.015568        0.161609\n",
            "87676   0.453430  1.032463 -2.234841  -0.461985        4.994513\n",
            "106737 -0.601009  0.334722 -0.372877  -0.897675        0.139037\n",
            "...          ...       ...       ...        ...             ...\n",
            "79448  -0.083305 -0.193741 -0.026228   7.386931        0.000688\n",
            "65632  -0.188786 -1.273991 -0.523244   2.434793        0.273784\n",
            "87933   2.307042  0.219498 -0.141649  -1.549585        0.020065\n",
            "107822 -1.043954  0.698092  0.101277   6.892931        0.010257\n",
            "81676  -1.559325  1.032463 -0.026228 -39.365553        0.000688\n",
            "\n",
            "[23831 rows x 5 columns] [7 5 1 ... 1 7 2]\n"
          ]
        }
      ]
    },
    {
      "cell_type": "code",
      "metadata": {
        "colab": {
          "base_uri": "https://localhost:8080/"
        },
        "id": "vhdC3bG_cUc_",
        "outputId": "4a1dc047-e7b8-4d43-f96f-b8c32de97169"
      },
      "source": [
        "mean0"
      ],
      "execution_count": null,
      "outputs": [
        {
          "output_type": "execute_result",
          "data": {
            "text/plain": [
              "age        36.304348\n",
              "height    160.388116\n",
              "weight     66.376812\n",
              "dtype: float64"
            ]
          },
          "metadata": {},
          "execution_count": 38
        }
      ]
    },
    {
      "cell_type": "code",
      "metadata": {
        "colab": {
          "base_uri": "https://localhost:8080/"
        },
        "id": "qXANuMCL1dhO",
        "outputId": "cca809ed-2d53-40a2-c9d7-c8d67a742c9b"
      },
      "source": [
        "stn"
      ],
      "execution_count": null,
      "outputs": [
        {
          "output_type": "execute_result",
          "data": {
            "text/plain": [
              "age       9.954757\n",
              "height    7.068046\n",
              "weight    5.102195\n",
              "dtype: float64"
            ]
          },
          "metadata": {},
          "execution_count": 39
        }
      ]
    },
    {
      "cell_type": "code",
      "metadata": {
        "id": "RtKGVZCT1fic"
      },
      "source": [
        "m1=[36.304348, 160.388116, 66.376812]\n",
        "s1=[9.954757, 7.068046, 5.102195]"
      ],
      "execution_count": null,
      "outputs": []
    },
    {
      "cell_type": "code",
      "metadata": {
        "colab": {
          "base_uri": "https://localhost:8080/"
        },
        "id": "pm4pMmsW_XFm",
        "outputId": "c2df9004-d82a-4291-b726-f01de270eb31"
      },
      "source": [
        "a=float(input('age:'))\n",
        "h=float(input('height:'))\n",
        "w=int(input('weight:'))\n",
        "ar=[a,h,w]\n",
        "Tzs=[0,0,0]\n",
        "for i in range(3):\n",
        "  Tzs[i]=((ar[i] - m1[i])/s1[i])\n",
        "a1=Tzs[0]\n",
        "h1=Tzs[1]\n",
        "w1=Tzs[2]\n",
        "b=h1/w1\n",
        "ws=w1*w1\n",
        "tin=(a1,h1,w1,b,ws)\n",
        "tarr = np.asarray(tin)\n",
        "reshaped_in = tarr.reshape(1,-1)"
      ],
      "execution_count": null,
      "outputs": [
        {
          "name": "stdout",
          "output_type": "stream",
          "text": [
            "age:30\n",
            "height:160\n",
            "weight:60\n"
          ]
        }
      ]
    },
    {
      "cell_type": "code",
      "metadata": {
        "colab": {
          "base_uri": "https://localhost:8080/",
          "height": 35
        },
        "id": "RGlloCA-D0UF",
        "outputId": "eeab8506-d459-407d-8e3e-eb3035c52446"
      },
      "source": [
        "y_pred = model.predict(reshaped_in)\n",
        "sizen=['XXS','XS','S','L','XL','XXL','XXXL']\n",
        "sizen[y_pred[0]-1]"
      ],
      "execution_count": null,
      "outputs": [
        {
          "output_type": "execute_result",
          "data": {
            "application/vnd.google.colaboratory.intrinsic+json": {
              "type": "string"
            },
            "text/plain": [
              "'L'"
            ]
          },
          "metadata": {},
          "execution_count": 42
        }
      ]
    },
    {
      "cell_type": "code",
      "metadata": {
        "id": "fJsgYpTO2BOL"
      },
      "source": [
        "import pickle"
      ],
      "execution_count": null,
      "outputs": []
    },
    {
      "cell_type": "code",
      "metadata": {
        "id": "LUUlD4o0D52E"
      },
      "source": [
        "pickle.dump(model, open('DTmodel.pkl','wb'))"
      ],
      "execution_count": null,
      "outputs": []
    },
    {
      "cell_type": "code",
      "metadata": {
        "id": "FupCTQGUGE00"
      },
      "source": [
        "dress.to_csv('cleandata.csv', index=False)"
      ],
      "execution_count": null,
      "outputs": []
    },
    {
      "cell_type": "code",
      "metadata": {
        "id": "zLC3P3j_S9kB"
      },
      "source": [
        "d=pd.read_csv('cleandata.csv')"
      ],
      "execution_count": null,
      "outputs": []
    },
    {
      "cell_type": "code",
      "metadata": {
        "colab": {
          "base_uri": "https://localhost:8080/",
          "height": 423
        },
        "id": "b46lFrHoTI7s",
        "outputId": "39f8e555-fe6c-4574-d361-4344dad52fd3"
      },
      "source": [
        "d"
      ],
      "execution_count": null,
      "outputs": [
        {
          "output_type": "execute_result",
          "data": {
            "text/html": [
              "<div>\n",
              "<style scoped>\n",
              "    .dataframe tbody tr th:only-of-type {\n",
              "        vertical-align: middle;\n",
              "    }\n",
              "\n",
              "    .dataframe tbody tr th {\n",
              "        vertical-align: top;\n",
              "    }\n",
              "\n",
              "    .dataframe thead th {\n",
              "        text-align: right;\n",
              "    }\n",
              "</style>\n",
              "<table border=\"1\" class=\"dataframe\">\n",
              "  <thead>\n",
              "    <tr style=\"text-align: right;\">\n",
              "      <th></th>\n",
              "      <th>age</th>\n",
              "      <th>height</th>\n",
              "      <th>weight</th>\n",
              "      <th>size</th>\n",
              "      <th>bmi</th>\n",
              "      <th>weight-squared</th>\n",
              "    </tr>\n",
              "  </thead>\n",
              "  <tbody>\n",
              "    <tr>\n",
              "      <th>0</th>\n",
              "      <td>-0.833765</td>\n",
              "      <td>0.767109</td>\n",
              "      <td>-0.660874</td>\n",
              "      <td>5</td>\n",
              "      <td>-1.160749</td>\n",
              "      <td>0.436754</td>\n",
              "    </tr>\n",
              "    <tr>\n",
              "      <th>1</th>\n",
              "      <td>-0.713753</td>\n",
              "      <td>1.539084</td>\n",
              "      <td>1.556823</td>\n",
              "      <td>5</td>\n",
              "      <td>0.988606</td>\n",
              "      <td>2.423699</td>\n",
              "    </tr>\n",
              "    <tr>\n",
              "      <th>2</th>\n",
              "      <td>-0.353718</td>\n",
              "      <td>-1.162831</td>\n",
              "      <td>-0.291257</td>\n",
              "      <td>5</td>\n",
              "      <td>3.992450</td>\n",
              "      <td>0.084831</td>\n",
              "    </tr>\n",
              "    <tr>\n",
              "      <th>3</th>\n",
              "      <td>-0.473729</td>\n",
              "      <td>-1.934807</td>\n",
              "      <td>-1.400106</td>\n",
              "      <td>5</td>\n",
              "      <td>1.381900</td>\n",
              "      <td>1.960297</td>\n",
              "    </tr>\n",
              "    <tr>\n",
              "      <th>4</th>\n",
              "      <td>0.126330</td>\n",
              "      <td>-0.776843</td>\n",
              "      <td>0.447975</td>\n",
              "      <td>5</td>\n",
              "      <td>-1.734122</td>\n",
              "      <td>0.200681</td>\n",
              "    </tr>\n",
              "    <tr>\n",
              "      <th>...</th>\n",
              "      <td>...</td>\n",
              "      <td>...</td>\n",
              "      <td>...</td>\n",
              "      <td>...</td>\n",
              "      <td>...</td>\n",
              "      <td>...</td>\n",
              "    </tr>\n",
              "    <tr>\n",
              "      <th>119148</th>\n",
              "      <td>-1.236027</td>\n",
              "      <td>-1.489537</td>\n",
              "      <td>0.318135</td>\n",
              "      <td>6</td>\n",
              "      <td>-4.682086</td>\n",
              "      <td>0.101210</td>\n",
              "    </tr>\n",
              "    <tr>\n",
              "      <th>119149</th>\n",
              "      <td>-0.633300</td>\n",
              "      <td>-0.052082</td>\n",
              "      <td>1.494100</td>\n",
              "      <td>6</td>\n",
              "      <td>-0.034858</td>\n",
              "      <td>2.232334</td>\n",
              "    </tr>\n",
              "    <tr>\n",
              "      <th>119150</th>\n",
              "      <td>-0.432391</td>\n",
              "      <td>-0.052082</td>\n",
              "      <td>0.514129</td>\n",
              "      <td>6</td>\n",
              "      <td>-0.101301</td>\n",
              "      <td>0.264329</td>\n",
              "    </tr>\n",
              "    <tr>\n",
              "      <th>119151</th>\n",
              "      <td>0.973972</td>\n",
              "      <td>-0.052082</td>\n",
              "      <td>-0.465841</td>\n",
              "      <td>6</td>\n",
              "      <td>0.111801</td>\n",
              "      <td>0.217008</td>\n",
              "    </tr>\n",
              "    <tr>\n",
              "      <th>119152</th>\n",
              "      <td>-0.733755</td>\n",
              "      <td>1.026010</td>\n",
              "      <td>2.082082</td>\n",
              "      <td>6</td>\n",
              "      <td>0.492781</td>\n",
              "      <td>4.335065</td>\n",
              "    </tr>\n",
              "  </tbody>\n",
              "</table>\n",
              "<p>119153 rows × 6 columns</p>\n",
              "</div>"
            ],
            "text/plain": [
              "             age    height    weight  size       bmi  weight-squared\n",
              "0      -0.833765  0.767109 -0.660874     5 -1.160749        0.436754\n",
              "1      -0.713753  1.539084  1.556823     5  0.988606        2.423699\n",
              "2      -0.353718 -1.162831 -0.291257     5  3.992450        0.084831\n",
              "3      -0.473729 -1.934807 -1.400106     5  1.381900        1.960297\n",
              "4       0.126330 -0.776843  0.447975     5 -1.734122        0.200681\n",
              "...          ...       ...       ...   ...       ...             ...\n",
              "119148 -1.236027 -1.489537  0.318135     6 -4.682086        0.101210\n",
              "119149 -0.633300 -0.052082  1.494100     6 -0.034858        2.232334\n",
              "119150 -0.432391 -0.052082  0.514129     6 -0.101301        0.264329\n",
              "119151  0.973972 -0.052082 -0.465841     6  0.111801        0.217008\n",
              "119152 -0.733755  1.026010  2.082082     6  0.492781        4.335065\n",
              "\n",
              "[119153 rows x 6 columns]"
            ]
          },
          "metadata": {},
          "execution_count": 47
        }
      ]
    },
    {
      "cell_type": "code",
      "metadata": {
        "colab": {
          "base_uri": "https://localhost:8080/"
        },
        "id": "3ZLxt6qpTOjz",
        "outputId": "667a39bc-3c38-4592-c8c6-ec451846c66e"
      },
      "source": [
        "d.isna().sum()"
      ],
      "execution_count": null,
      "outputs": [
        {
          "output_type": "execute_result",
          "data": {
            "text/plain": [
              "age               0\n",
              "height            0\n",
              "weight            0\n",
              "size              0\n",
              "bmi               0\n",
              "weight-squared    0\n",
              "dtype: int64"
            ]
          },
          "metadata": {},
          "execution_count": 48
        }
      ]
    }
  ]
}